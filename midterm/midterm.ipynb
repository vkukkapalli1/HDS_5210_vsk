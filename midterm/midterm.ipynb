{
  "cells": [
    {
      "cell_type": "markdown",
      "metadata": {
        "id": "view-in-github",
        "colab_type": "text"
      },
      "source": [
        "<a href=\"https://colab.research.google.com/github/vkukkapalli1/HDS_5210_vsk/blob/main/midterm/midterm.ipynb\" target=\"_parent\"><img src=\"https://colab.research.google.com/assets/colab-badge.svg\" alt=\"Open In Colab\"/></a>"
      ]
    },
    {
      "cell_type": "markdown",
      "metadata": {
        "id": "pVu2Q8QX0Jil"
      },
      "source": [
        "### Mid-term for HDS5210\n",
        "\n",
        "Your supervisor is concerned about 4-year survival risks for COPD. She has asked for you to do some analysis using a new metric, BODE. BODE is an improvement on a previous metric and promises to provide insight on survival risks.\n",
        "\n",
        "BODE is defined here. https://www.mdcalc.com/calc/3916/bode-index-copd-survival#evidence\n",
        "\n",
        "Your assignment is to create a BODE calculation, use it to calculate BODE scores and BODE survival rates for a group of patients. Then we want to evaluate the average BODE scores and BODE survival rates for each area hospital.\n",
        "\n",
        "Your patient input file will have the following columns:\n",
        "NAME,SSN,LANGUAGE,JOB,HEIGHT_M,WEIGHT_KG,fev_pct,dyspnea_description,distance_in_meters,hospital\n",
        "\n",
        "BODE calculations require a BMI value, so you will have to create a function for it.\n",
        "\n",
        "Your output should be in the form of two CSV files, patient_output.csv and hospital_output.csv.\n",
        "\n",
        "Patient_output will have the following columns:\n",
        "NAME,BODE_SCORE,BODE_RISK,HOSPITAL\n",
        "\n",
        "Hospital output will have the following columns:\n",
        "HOSPITAL_NAME, COPD_COUNT, PCT_OF_COPD_CASES_OVER_BEDS, AVG_SCORE, AVG_RISK\n",
        "\n",
        "Each function you create should have documentation and a suitable number of test cases. If the input data could be wrong, make sure to raise a Value Error.\n",
        "\n",
        "For this assignment, use the doctest, json, and csv libraries. Pandas is not allowed for this assignment."
      ]
    },
    {
      "cell_type": "code",
      "execution_count": 2,
      "metadata": {
        "id": "_VxZEwU20Jio"
      },
      "outputs": [],
      "source": [
        "import doctest\n",
        "import json\n",
        "import csv"
      ]
    },
    {
      "cell_type": "markdown",
      "metadata": {
        "id": "rBwh4ubA0Jip"
      },
      "source": [
        "### Step 1: Calculate BMI"
      ]
    },
    {
      "cell_type": "code",
      "execution_count": 3,
      "metadata": {
        "id": "N6Ypulbs0Jiq"
      },
      "outputs": [],
      "source": [
        "def bmi_kg_per_m2(weight_kg, height_m):\n",
        "    \"\"\"\n",
        "    Calculate BMI using weight in kilograms and height in meters.\n",
        "\n",
        "    Formula:\n",
        "    BMI = weight (kg) / (height (m))^2  #general formula for BMI calculation(SI Units)\n",
        "\n",
        "    Example:\n",
        "    >>> bmi_kg_per_m2(70, 1.75)\n",
        "    22.86\n",
        "\n",
        "    >>> bmi_kg_per_m2(80, 1.8)\n",
        "    24.69\n",
        "\n",
        "    Raises:\n",
        "        ValueError: if height is less than or equal to zero.\n",
        "    \"\"\"\n",
        "    if height_m <= 0:\n",
        "        raise ValueError(\"Height must be greater than 0.\")\n",
        "    if weight_kg <=0:\n",
        "        raise ValueError(\"Weight must be greater than 0.\")\n",
        "    height_sq = height_m*height_m\n",
        "    #adding height_sq for height squared\n",
        "\n",
        "    bmi_kg_per_m2 = round(weight_kg / height_sq,2)\n",
        "    #rounded to 2 decimal places as the weight in csv file is rounded to 2 decimal points.\n",
        "\n",
        "\n",
        "    return bmi_kg_per_m2"
      ]
    },
    {
      "cell_type": "code",
      "source": [
        "import doctest\n",
        "doctest.run_docstring_examples(bmi_kg_per_m2, globals(), verbose=True)"
      ],
      "metadata": {
        "id": "_QLy0ib70WE_",
        "outputId": "68a365ed-a00a-4299-c488-37b71db76a12",
        "colab": {
          "base_uri": "https://localhost:8080/"
        }
      },
      "execution_count": 5,
      "outputs": [
        {
          "output_type": "stream",
          "name": "stdout",
          "text": [
            "Finding tests in NoName\n",
            "Trying:\n",
            "    bmi_kg_per_m2(70, 1.75)\n",
            "Expecting:\n",
            "    22.86\n",
            "ok\n",
            "Trying:\n",
            "    bmi_kg_per_m2(80, 1.8)\n",
            "Expecting:\n",
            "    24.69\n",
            "ok\n"
          ]
        }
      ]
    },
    {
      "cell_type": "code",
      "source": [
        "bmi_kg_per_m2 (67,1.82)"
      ],
      "metadata": {
        "id": "-vPe3D6q0WYO",
        "outputId": "57d2fe88-953c-464e-fd5d-44ff80d6e576",
        "colab": {
          "base_uri": "https://localhost:8080/"
        }
      },
      "execution_count": 6,
      "outputs": [
        {
          "output_type": "execute_result",
          "data": {
            "text/plain": [
              "20.23"
            ]
          },
          "metadata": {},
          "execution_count": 6
        }
      ]
    },
    {
      "cell_type": "code",
      "source": [
        "bmi_kg_per_m2(74,1.82)"
      ],
      "metadata": {
        "id": "8ZmIGcm80Wpd",
        "outputId": "304f1c7e-70c4-46b1-9fb1-57e85b5581a8",
        "colab": {
          "base_uri": "https://localhost:8080/"
        }
      },
      "execution_count": 7,
      "outputs": [
        {
          "output_type": "execute_result",
          "data": {
            "text/plain": [
              "22.34"
            ]
          },
          "metadata": {},
          "execution_count": 7
        }
      ]
    },
    {
      "cell_type": "markdown",
      "metadata": {
        "id": "9Kthah640Jiq"
      },
      "source": [
        "### Step 2: Calculate BODE Score"
      ]
    },
    {
      "cell_type": "code",
      "execution_count": 8,
      "metadata": {
        "id": "qPbb8jzI0Jir"
      },
      "outputs": [],
      "source": [
        "def bode_score(bmi_kg_per_m2, fev_pct, dyspnea_description, distance_in_meters):\n",
        "    \"\"\"\n",
        "   (float, float, str, int) -> int\n",
        "\n",
        "    This function computes the BODE score for a COPD patient based on BMI, FEV1 percentage,\n",
        "    dyspnea level, and 6-minute walk distance.\n",
        "\n",
        "    The scoring logic is based on the criteria outlined in the BODE Index calculation from\n",
        "    https://www.mdcalc.com/calc/3916/bode-index-copd-survival#evidence\n",
        "\n",
        "    Formula:\n",
        "        - FEV1 % (0-3 points)\n",
        "        - BMI (0-1 point)\n",
        "        - Dyspnea (0-3 points)\n",
        "        - 6 minute walk distance in meters (0-3 points)\n",
        "\n",
        "    >>> bode_score(25, 70, 'SLOWER THAN PEERS', 400)\n",
        "    1\n",
        "\n",
        "    >>> bode_score(18, 40, 'STOPS AFTER 100 YARDS', 300)\n",
        "    6\n",
        "\n",
        "    >>> bode_score(22, 30, 'BREATHLESS WHEN DRESSING', 100)\n",
        "    9\n",
        "\n",
        "    >>> bode_score(20, 35, 'STOPS AFTER A FEW MINUTES', 250)\n",
        "    7\n",
        "    \"\"\"\n",
        "    # few variable names and the string values of dyspnea_description are considered from the uploaded patient.csv file\n",
        "\n",
        "    # Points for BMI\n",
        "    if bmi_kg_per_m2 <=0:\n",
        "       raise ValueError(\"BMI must be greater than 0.\")\n",
        "\n",
        "    if bmi_kg_per_m2 > 21:\n",
        "        bmi_score = 0\n",
        "    else:\n",
        "        bmi_score = 1 # BMI <= 21\n",
        "\n",
        "    # Points for FEV1 %\n",
        "    if fev_pct >100 or fev_pct <0 :\n",
        "      raise ValueError(\"fev_pct is percentage and cannot be a value over 100 or less than 0.\")\n",
        "\n",
        "    if fev_pct >= 65:\n",
        "        fev_score = 0\n",
        "    elif fev_pct >= 50:\n",
        "        fev_score = 1\n",
        "    elif fev_pct >= 36:\n",
        "        fev_score = 2\n",
        "    else:\n",
        "        fev_score = 3\n",
        "\n",
        "    # Points for Dyspnea based on description\n",
        "    if dyspnea_description in [\"STOPS WHEN WALKING AT PACE\" , \"SLOWER THAN PEERS\"]:\n",
        "        dyspnea_score = 1\n",
        "    elif dyspnea_description in [\"STOPS AFTER 100 YARDS\" , \"STOPS AFTER A FEW MINUTES\"] :\n",
        "        dyspnea_score = 2\n",
        "    elif dyspnea_description in [\"BREATHLESS WHEN DRESSING\" , \"UNABLE TO LEAVE HOME\"]:\n",
        "        dyspnea_score = 3\n",
        "    else:\n",
        "        dyspnea_score = 0\n",
        "\n",
        "    # Points for 6-minute walk distance\n",
        "    if distance_in_meters <0 :\n",
        "      raise ValueError(\"Distance cannot be a negative value.\")\n",
        "\n",
        "    if distance_in_meters >= 350:\n",
        "        distance_score = 0\n",
        "    elif distance_in_meters >= 250:\n",
        "        distance_score = 1\n",
        "    elif distance_in_meters >= 150:\n",
        "        distance_score = 2\n",
        "    else:\n",
        "        distance_score = 3\n",
        "\n",
        "    # to get the total BODE score for a patient\n",
        "    bode_score = bmi_score + fev_score + dyspnea_score + distance_score\n",
        "\n",
        "    return bode_score"
      ]
    },
    {
      "cell_type": "code",
      "source": [
        "import doctest\n",
        "doctest.run_docstring_examples(bode_score, globals(), verbose=True)"
      ],
      "metadata": {
        "id": "o56vCTpd0s-5",
        "outputId": "c5059415-9b81-4f88-e5c8-873efa9cd9b2",
        "colab": {
          "base_uri": "https://localhost:8080/"
        }
      },
      "execution_count": 9,
      "outputs": [
        {
          "output_type": "stream",
          "name": "stdout",
          "text": [
            "Finding tests in NoName\n",
            "Trying:\n",
            "    bode_score(25, 70, 'SLOWER THAN PEERS', 400)\n",
            "Expecting:\n",
            "    1\n",
            "ok\n",
            "Trying:\n",
            "    bode_score(18, 40, 'STOPS AFTER 100 YARDS', 300)\n",
            "Expecting:\n",
            "    6\n",
            "ok\n",
            "Trying:\n",
            "    bode_score(22, 30, 'BREATHLESS WHEN DRESSING', 100)\n",
            "Expecting:\n",
            "    9\n",
            "ok\n",
            "Trying:\n",
            "    bode_score(20, 35, 'STOPS AFTER A FEW MINUTES', 250)\n",
            "Expecting:\n",
            "    7\n",
            "ok\n"
          ]
        }
      ]
    },
    {
      "cell_type": "code",
      "source": [
        "bode_score(20.23,70,'ONLY STRENUOUS EXERCISE',600)"
      ],
      "metadata": {
        "id": "VOhmwbgv0tOT",
        "outputId": "af582ca0-1704-4965-bcfb-61dd0f525596",
        "colab": {
          "base_uri": "https://localhost:8080/"
        }
      },
      "execution_count": 10,
      "outputs": [
        {
          "output_type": "execute_result",
          "data": {
            "text/plain": [
              "1"
            ]
          },
          "metadata": {},
          "execution_count": 10
        }
      ]
    },
    {
      "cell_type": "code",
      "source": [
        "bode_score(22.3,200,'BREATHLESS WHEN DRESSING',200)"
      ],
      "metadata": {
        "id": "p_q7LWnc0tgc",
        "outputId": "9e9fc15a-f023-4cc2-ef1c-c2e3b0566889",
        "colab": {
          "base_uri": "https://localhost:8080/",
          "height": 263
        }
      },
      "execution_count": 11,
      "outputs": [
        {
          "output_type": "error",
          "ename": "ValueError",
          "evalue": "fev_pct is percentage and cannot be a value over 100 or less than 0.",
          "traceback": [
            "\u001b[0;31m---------------------------------------------------------------------------\u001b[0m",
            "\u001b[0;31mValueError\u001b[0m                                Traceback (most recent call last)",
            "\u001b[0;32m<ipython-input-11-19c40fd205f5>\u001b[0m in \u001b[0;36m<cell line: 1>\u001b[0;34m()\u001b[0m\n\u001b[0;32m----> 1\u001b[0;31m \u001b[0mbode_score\u001b[0m\u001b[0;34m(\u001b[0m\u001b[0;36m22.3\u001b[0m\u001b[0;34m,\u001b[0m\u001b[0;36m200\u001b[0m\u001b[0;34m,\u001b[0m\u001b[0;34m'BREATHLESS WHEN DRESSING'\u001b[0m\u001b[0;34m,\u001b[0m\u001b[0;36m200\u001b[0m\u001b[0;34m)\u001b[0m\u001b[0;34m\u001b[0m\u001b[0;34m\u001b[0m\u001b[0m\n\u001b[0m",
            "\u001b[0;32m<ipython-input-8-ebaabf9e8416>\u001b[0m in \u001b[0;36mbode_score\u001b[0;34m(bmi_kg_per_m2, fev_pct, dyspnea_description, distance_in_meters)\u001b[0m\n\u001b[1;32m     40\u001b[0m     \u001b[0;31m# Points for FEV1 %\u001b[0m\u001b[0;34m\u001b[0m\u001b[0;34m\u001b[0m\u001b[0m\n\u001b[1;32m     41\u001b[0m     \u001b[0;32mif\u001b[0m \u001b[0mfev_pct\u001b[0m \u001b[0;34m>\u001b[0m\u001b[0;36m100\u001b[0m \u001b[0;32mor\u001b[0m \u001b[0mfev_pct\u001b[0m \u001b[0;34m<\u001b[0m\u001b[0;36m0\u001b[0m \u001b[0;34m:\u001b[0m\u001b[0;34m\u001b[0m\u001b[0;34m\u001b[0m\u001b[0m\n\u001b[0;32m---> 42\u001b[0;31m       \u001b[0;32mraise\u001b[0m \u001b[0mValueError\u001b[0m\u001b[0;34m(\u001b[0m\u001b[0;34m\"fev_pct is percentage and cannot be a value over 100 or less than 0.\"\u001b[0m\u001b[0;34m)\u001b[0m\u001b[0;34m\u001b[0m\u001b[0;34m\u001b[0m\u001b[0m\n\u001b[0m\u001b[1;32m     43\u001b[0m \u001b[0;34m\u001b[0m\u001b[0m\n\u001b[1;32m     44\u001b[0m     \u001b[0;32mif\u001b[0m \u001b[0mfev_pct\u001b[0m \u001b[0;34m>=\u001b[0m \u001b[0;36m65\u001b[0m\u001b[0;34m:\u001b[0m\u001b[0;34m\u001b[0m\u001b[0;34m\u001b[0m\u001b[0m\n",
            "\u001b[0;31mValueError\u001b[0m: fev_pct is percentage and cannot be a value over 100 or less than 0."
          ]
        }
      ]
    },
    {
      "cell_type": "code",
      "source": [
        "bode_score(21,60,'BREATHLESS WHEN DRESSING',-20)"
      ],
      "metadata": {
        "id": "Sjy34lX503AQ",
        "outputId": "fe2dd165-9551-473a-fea7-baff1a9d098d",
        "colab": {
          "base_uri": "https://localhost:8080/",
          "height": 263
        }
      },
      "execution_count": 12,
      "outputs": [
        {
          "output_type": "error",
          "ename": "ValueError",
          "evalue": "Distance cannot be a negative value.",
          "traceback": [
            "\u001b[0;31m---------------------------------------------------------------------------\u001b[0m",
            "\u001b[0;31mValueError\u001b[0m                                Traceback (most recent call last)",
            "\u001b[0;32m<ipython-input-12-103055d43e03>\u001b[0m in \u001b[0;36m<cell line: 1>\u001b[0;34m()\u001b[0m\n\u001b[0;32m----> 1\u001b[0;31m \u001b[0mbode_score\u001b[0m\u001b[0;34m(\u001b[0m\u001b[0;36m21\u001b[0m\u001b[0;34m,\u001b[0m\u001b[0;36m60\u001b[0m\u001b[0;34m,\u001b[0m\u001b[0;34m'BREATHLESS WHEN DRESSING'\u001b[0m\u001b[0;34m,\u001b[0m\u001b[0;34m-\u001b[0m\u001b[0;36m20\u001b[0m\u001b[0;34m)\u001b[0m\u001b[0;34m\u001b[0m\u001b[0;34m\u001b[0m\u001b[0m\n\u001b[0m",
            "\u001b[0;32m<ipython-input-8-ebaabf9e8416>\u001b[0m in \u001b[0;36mbode_score\u001b[0;34m(bmi_kg_per_m2, fev_pct, dyspnea_description, distance_in_meters)\u001b[0m\n\u001b[1;32m     63\u001b[0m     \u001b[0;31m# Points for 6-minute walk distance\u001b[0m\u001b[0;34m\u001b[0m\u001b[0;34m\u001b[0m\u001b[0m\n\u001b[1;32m     64\u001b[0m     \u001b[0;32mif\u001b[0m \u001b[0mdistance_in_meters\u001b[0m \u001b[0;34m<\u001b[0m\u001b[0;36m0\u001b[0m \u001b[0;34m:\u001b[0m\u001b[0;34m\u001b[0m\u001b[0;34m\u001b[0m\u001b[0m\n\u001b[0;32m---> 65\u001b[0;31m       \u001b[0;32mraise\u001b[0m \u001b[0mValueError\u001b[0m\u001b[0;34m(\u001b[0m\u001b[0;34m\"Distance cannot be a negative value.\"\u001b[0m\u001b[0;34m)\u001b[0m\u001b[0;34m\u001b[0m\u001b[0;34m\u001b[0m\u001b[0m\n\u001b[0m\u001b[1;32m     66\u001b[0m \u001b[0;34m\u001b[0m\u001b[0m\n\u001b[1;32m     67\u001b[0m     \u001b[0;32mif\u001b[0m \u001b[0mdistance_in_meters\u001b[0m \u001b[0;34m>=\u001b[0m \u001b[0;36m350\u001b[0m\u001b[0;34m:\u001b[0m\u001b[0;34m\u001b[0m\u001b[0;34m\u001b[0m\u001b[0m\n",
            "\u001b[0;31mValueError\u001b[0m: Distance cannot be a negative value."
          ]
        }
      ]
    },
    {
      "cell_type": "markdown",
      "metadata": {
        "id": "wN8B_cBD0Jir"
      },
      "source": [
        "### Step 3: Calculate BODE Risk"
      ]
    },
    {
      "cell_type": "code",
      "execution_count": 13,
      "metadata": {
        "id": "s5wI4X9p0Jis"
      },
      "outputs": [],
      "source": [
        "def bode_risk(bode_score):\n",
        "    \"\"\"\n",
        "    Determine the BODE 4-year survival risk from the BODE score.\n",
        "\n",
        "    Risk levels based on BODE score:\n",
        "    - 0-2 points: 80%\n",
        "    - 3-4 points: 67%\n",
        "    - 5-6 points: 57%\n",
        "    - 7-10 points: 18%\n",
        "    Resulting bode_risk is given as an int\n",
        "\n",
        "    Example:\n",
        "    >>> bode_risk(0)\n",
        "    80\n",
        "\n",
        "    >>> bode_risk(4)\n",
        "    67\n",
        "\n",
        "    >>> bode_risk(7)\n",
        "    18\n",
        "\n",
        "    \"\"\"\n",
        "    #to rule out the values that are not possible to obtain in bode_score\n",
        "    if bode_score <0 or bode_score >10:\n",
        "        raise ValueError (\"The entered BODE score is ineligible.\")\n",
        "\n",
        "    #to determine the BODE RISK\n",
        "    if bode_score <= 2:\n",
        "        return 80\n",
        "    elif bode_score <= 4:\n",
        "        return 67\n",
        "    elif bode_score <= 6:\n",
        "        return 57\n",
        "    elif bode_score <= 10:\n",
        "        return 18\n",
        "\n",
        "    return bode_risk"
      ]
    },
    {
      "cell_type": "code",
      "source": [
        "import doctest\n",
        "doctest.run_docstring_examples(bode_risk, globals(), verbose=True)"
      ],
      "metadata": {
        "id": "a-3EqObA1GHl",
        "outputId": "0c623d00-c2e3-4563-e05d-15ec94b66789",
        "colab": {
          "base_uri": "https://localhost:8080/"
        }
      },
      "execution_count": 14,
      "outputs": [
        {
          "output_type": "stream",
          "name": "stdout",
          "text": [
            "Finding tests in NoName\n",
            "Trying:\n",
            "    bode_risk(0)\n",
            "Expecting:\n",
            "    80\n",
            "ok\n",
            "Trying:\n",
            "    bode_risk(4)\n",
            "Expecting:\n",
            "    67\n",
            "ok\n",
            "Trying:\n",
            "    bode_risk(7)\n",
            "Expecting:\n",
            "    18\n",
            "ok\n"
          ]
        }
      ]
    },
    {
      "cell_type": "code",
      "source": [
        "bode_risk(0)"
      ],
      "metadata": {
        "id": "CgYLfa8I1I1h",
        "outputId": "31054473-79b9-407b-e2f0-fa214f0a83f7",
        "colab": {
          "base_uri": "https://localhost:8080/"
        }
      },
      "execution_count": 15,
      "outputs": [
        {
          "output_type": "execute_result",
          "data": {
            "text/plain": [
              "80"
            ]
          },
          "metadata": {},
          "execution_count": 15
        }
      ]
    },
    {
      "cell_type": "code",
      "source": [
        "bode_risk(100)"
      ],
      "metadata": {
        "id": "ax2oRHDV1Irs",
        "outputId": "db1313a6-de78-4e45-e36d-79b63505f57a",
        "colab": {
          "base_uri": "https://localhost:8080/",
          "height": 263
        }
      },
      "execution_count": 16,
      "outputs": [
        {
          "output_type": "error",
          "ename": "ValueError",
          "evalue": "The entered BODE score is ineligible.",
          "traceback": [
            "\u001b[0;31m---------------------------------------------------------------------------\u001b[0m",
            "\u001b[0;31mValueError\u001b[0m                                Traceback (most recent call last)",
            "\u001b[0;32m<ipython-input-16-eb20aaa51870>\u001b[0m in \u001b[0;36m<cell line: 1>\u001b[0;34m()\u001b[0m\n\u001b[0;32m----> 1\u001b[0;31m \u001b[0mbode_risk\u001b[0m\u001b[0;34m(\u001b[0m\u001b[0;36m100\u001b[0m\u001b[0;34m)\u001b[0m\u001b[0;34m\u001b[0m\u001b[0;34m\u001b[0m\u001b[0m\n\u001b[0m",
            "\u001b[0;32m<ipython-input-13-dd6fb33cd324>\u001b[0m in \u001b[0;36mbode_risk\u001b[0;34m(bode_score)\u001b[0m\n\u001b[1;32m     23\u001b[0m     \u001b[0;31m#to rule out the values that are not possible to obtain in bode_score\u001b[0m\u001b[0;34m\u001b[0m\u001b[0;34m\u001b[0m\u001b[0m\n\u001b[1;32m     24\u001b[0m     \u001b[0;32mif\u001b[0m \u001b[0mbode_score\u001b[0m \u001b[0;34m<\u001b[0m\u001b[0;36m0\u001b[0m \u001b[0;32mor\u001b[0m \u001b[0mbode_score\u001b[0m \u001b[0;34m>\u001b[0m\u001b[0;36m10\u001b[0m\u001b[0;34m:\u001b[0m\u001b[0;34m\u001b[0m\u001b[0;34m\u001b[0m\u001b[0m\n\u001b[0;32m---> 25\u001b[0;31m         \u001b[0;32mraise\u001b[0m \u001b[0mValueError\u001b[0m \u001b[0;34m(\u001b[0m\u001b[0;34m\"The entered BODE score is ineligible.\"\u001b[0m\u001b[0;34m)\u001b[0m\u001b[0;34m\u001b[0m\u001b[0;34m\u001b[0m\u001b[0m\n\u001b[0m\u001b[1;32m     26\u001b[0m \u001b[0;34m\u001b[0m\u001b[0m\n\u001b[1;32m     27\u001b[0m     \u001b[0;31m#to determine the BODE RISK\u001b[0m\u001b[0;34m\u001b[0m\u001b[0;34m\u001b[0m\u001b[0m\n",
            "\u001b[0;31mValueError\u001b[0m: The entered BODE score is ineligible."
          ]
        }
      ]
    },
    {
      "cell_type": "code",
      "source": [
        "bode_risk(-2)"
      ],
      "metadata": {
        "id": "KrxB6x9A1ILI",
        "outputId": "46e331a1-8fcb-40e8-db1a-4316440600c0",
        "colab": {
          "base_uri": "https://localhost:8080/",
          "height": 263
        }
      },
      "execution_count": 17,
      "outputs": [
        {
          "output_type": "error",
          "ename": "ValueError",
          "evalue": "The entered BODE score is ineligible.",
          "traceback": [
            "\u001b[0;31m---------------------------------------------------------------------------\u001b[0m",
            "\u001b[0;31mValueError\u001b[0m                                Traceback (most recent call last)",
            "\u001b[0;32m<ipython-input-17-419c8132bce1>\u001b[0m in \u001b[0;36m<cell line: 1>\u001b[0;34m()\u001b[0m\n\u001b[0;32m----> 1\u001b[0;31m \u001b[0mbode_risk\u001b[0m\u001b[0;34m(\u001b[0m\u001b[0;34m-\u001b[0m\u001b[0;36m2\u001b[0m\u001b[0;34m)\u001b[0m\u001b[0;34m\u001b[0m\u001b[0;34m\u001b[0m\u001b[0m\n\u001b[0m",
            "\u001b[0;32m<ipython-input-13-dd6fb33cd324>\u001b[0m in \u001b[0;36mbode_risk\u001b[0;34m(bode_score)\u001b[0m\n\u001b[1;32m     23\u001b[0m     \u001b[0;31m#to rule out the values that are not possible to obtain in bode_score\u001b[0m\u001b[0;34m\u001b[0m\u001b[0;34m\u001b[0m\u001b[0m\n\u001b[1;32m     24\u001b[0m     \u001b[0;32mif\u001b[0m \u001b[0mbode_score\u001b[0m \u001b[0;34m<\u001b[0m\u001b[0;36m0\u001b[0m \u001b[0;32mor\u001b[0m \u001b[0mbode_score\u001b[0m \u001b[0;34m>\u001b[0m\u001b[0;36m10\u001b[0m\u001b[0;34m:\u001b[0m\u001b[0;34m\u001b[0m\u001b[0;34m\u001b[0m\u001b[0m\n\u001b[0;32m---> 25\u001b[0;31m         \u001b[0;32mraise\u001b[0m \u001b[0mValueError\u001b[0m \u001b[0;34m(\u001b[0m\u001b[0;34m\"The entered BODE score is ineligible.\"\u001b[0m\u001b[0;34m)\u001b[0m\u001b[0;34m\u001b[0m\u001b[0;34m\u001b[0m\u001b[0m\n\u001b[0m\u001b[1;32m     26\u001b[0m \u001b[0;34m\u001b[0m\u001b[0m\n\u001b[1;32m     27\u001b[0m     \u001b[0;31m#to determine the BODE RISK\u001b[0m\u001b[0;34m\u001b[0m\u001b[0;34m\u001b[0m\u001b[0m\n",
            "\u001b[0;31mValueError\u001b[0m: The entered BODE score is ineligible."
          ]
        }
      ]
    },
    {
      "cell_type": "markdown",
      "metadata": {
        "id": "EhxmvTMY0Jit"
      },
      "source": [
        "### Step 4: Load Hospital Data"
      ]
    },
    {
      "cell_type": "code",
      "execution_count": 18,
      "metadata": {
        "id": "hfHvmL2j0Jit"
      },
      "outputs": [],
      "source": [
        "def hospital_data(file_path):\n",
        "  \"\"\"\n",
        "\n",
        "  hospital data would consist of the information from hospitals.json\n",
        "\n",
        "  this function would give me loaded hospital data as a dictionary\n",
        "\n",
        "  \"\"\"\n",
        "\n",
        "  with open(file_path, 'r') as file:\n",
        "    return json.load(file)"
      ]
    },
    {
      "cell_type": "markdown",
      "metadata": {
        "id": "sy0cuBY20Jit"
      },
      "source": [
        "### Step 5: Main business logic\n",
        "\n",
        "Call BODE Score, BODE Risk functions for each patient.\n",
        "\n",
        "For each hospital, calculate Avg BODE score and Avg BODE risk and count the number of cases for each hospital."
      ]
    },
    {
      "cell_type": "code",
      "execution_count": 19,
      "metadata": {
        "id": "0rzYhpdx0Jiu"
      },
      "outputs": [],
      "source": [
        "import json\n",
        "import csv\n",
        "def bmi_kg_per_m2(weight_kg, height_m):\n",
        "\n",
        "    if height_m <= 0:\n",
        "        raise ValueError(\"Height must be greater than 0.\")\n",
        "    if weight_kg <=0:\n",
        "        raise ValueError(\"Weight must be greater than 0.\")\n",
        "    height_sq = height_m*height_m\n",
        "    #adding height_sq for height squared\n",
        "\n",
        "    bmi_kg_per_m2 = round(weight_kg / height_sq,2)\n",
        "    #rounded to 2 decimal places as the weight in csv file is rounded to 2 decimal points.\n",
        "\n",
        "\n",
        "    return bmi_kg_per_m2\n",
        "\n",
        "def bode_score(bmi_kg_per_m2, fev_pct, dyspnea_description, distance_in_meters):\n",
        "\n",
        "    if bmi_kg_per_m2 <=0:\n",
        "       raise ValueError(\"BMI must be greater than 0.\")\n",
        "\n",
        "    if bmi_kg_per_m2 > 21:\n",
        "        bmi_score = 0\n",
        "    else:\n",
        "        bmi_score = 1 # BMI <= 21\n",
        "\n",
        "    # Points for FEV1 %\n",
        "    if fev_pct >100 or fev_pct <0 :\n",
        "      raise ValueError(\"fev_pct is percentage and cannot be a value over 100 or less than 0.\")\n",
        "\n",
        "    if fev_pct >= 65:\n",
        "        fev_score = 0\n",
        "    elif fev_pct >= 50:\n",
        "        fev_score = 1\n",
        "    elif fev_pct >= 36:\n",
        "        fev_score = 2\n",
        "    else:\n",
        "        fev_score = 3\n",
        "\n",
        "    # Points for Dyspnea based on description\n",
        "    if dyspnea_description in [\"STOPS WHEN WALKING AT PACE\" , \"SLOWER THAN PEERS\"]:\n",
        "        dyspnea_score = 1\n",
        "    elif dyspnea_description in [\"STOPS AFTER 100 YARDS\" , \"STOPS AFTER A FEW MINUTES\"] :\n",
        "        dyspnea_score = 2\n",
        "    elif dyspnea_description in [\"BREATHLESS WHEN DRESSING\" , \"UNABLE TO LEAVE HOME\"]:\n",
        "        dyspnea_score = 3\n",
        "    else:\n",
        "        dyspnea_score = 0\n",
        "\n",
        "    # Points for 6-minute walk distance\n",
        "    if distance_in_meters <0 :\n",
        "      raise ValueError(\"Distance cannot be a negative value.\")\n",
        "\n",
        "    if distance_in_meters >= 350:\n",
        "        distance_score = 0\n",
        "    elif distance_in_meters >= 250:\n",
        "        distance_score = 1\n",
        "    elif distance_in_meters >= 150:\n",
        "        distance_score = 2\n",
        "    else:\n",
        "        distance_score = 3\n",
        "\n",
        "    # to get the total BODE score for a patient\n",
        "    bode_score = bmi_score + fev_score + dyspnea_score + distance_score\n",
        "\n",
        "    return bode_score\n",
        "\n",
        "def bode_risk(bode_score):\n",
        "\n",
        "    if bode_score <0 or bode_score >10:\n",
        "        raise ValueError (\"The entered BODE score is ineligible.\")\n",
        "\n",
        "    #to determine the BODE RISK\n",
        "    if bode_score <= 2:\n",
        "        return 80\n",
        "    elif bode_score <= 4:\n",
        "        return 67\n",
        "    elif bode_score <= 6:\n",
        "        return 57\n",
        "    elif bode_score <= 10:\n",
        "        return 18\n",
        "\n",
        "    return bode_risk\n",
        "\n",
        "def hospital_data(file_path):\n",
        "\n",
        "  with open(file_path, 'r') as file:\n",
        "    return json.load(file)\n",
        "\n",
        "\n",
        "patient_csv = \"/content/patient.csv\"\n",
        "hospital_json = \"/content/hospitals.json\"\n",
        "\n",
        "patient_output_file = \"patient_output.csv\"\n",
        "hospital_output_file = \"hospital_output.csv\"\n",
        "\n",
        "###\n",
        "# Your logic here\n",
        "def midterm_assignment(patient_csv, hospital_json, patient_output_csv, hospital_output_csv):\n",
        "    hospitals = hospital_data(hospital_json)\n",
        "    hospital_beds = {hospital['name']: hospital['beds'] for system in hospitals for hospital in system['hospitals']}\n",
        "\n",
        "    patient_data = []\n",
        "    hospitals_data = {}\n",
        "\n",
        "    patient_results = [['NAME', 'BODE_SCORE', 'BODE_RISK', 'HOSPITAL']]\n",
        "    hospital_output_list = [['HOSPITAL_NAME', 'COPD_COUNT', 'PCT_OF_COPD_CASES_OVER_BEDS', 'AVG_SCORE', 'AVG_RISK']]\n",
        "\n",
        "    with open(patient_csv, 'r') as file:\n",
        "        reader = csv.DictReader(file)\n",
        "        for row in reader:\n",
        "            name = row['NAME']\n",
        "            hospital = row['hospital']\n",
        "            weight_kg = float(row['WEIGHT_KG'])\n",
        "            height_m = float(row['HEIGHT_M'])\n",
        "            fev_pct = float(row['fev_pct'])\n",
        "            dyspnea_description = row['dyspnea_description']\n",
        "            distance_in_meters = float(row['distance_in_meters'])\n",
        "\n",
        "            bmi = bmi_kg_per_m2(weight_kg, height_m)\n",
        "            BODEscore = bode_score(bmi, fev_pct, dyspnea_description, distance_in_meters)\n",
        "            BODErisk = bode_risk(BODEscore)\n",
        "\n",
        "            patient_data.append([name, BODEscore, f\"{BODErisk}%\", hospital])\n",
        "\n",
        "            if hospital not in hospitals_data:\n",
        "                hospitals_data[hospital] = {'count': 0, 'total_score': 0, 'total_risk': 0}\n",
        "\n",
        "            hospitals_data[hospital]['count'] += 1\n",
        "            hospitals_data[hospital]['total_score'] += BODEscore\n",
        "            hospitals_data[hospital]['total_risk'] += BODErisk\n",
        "\n",
        "    patient_results.extend(patient_data)\n",
        "\n",
        "\n",
        "    for hospital, data in hospitals_data.items():\n",
        "        beds = hospital_beds[hospital]\n",
        "        copd_count = data['count']\n",
        "        avg_score = round(data['total_score'] / copd_count, 2)\n",
        "        avg_risk = round(data['total_risk'] / copd_count, 2)\n",
        "        pct_of_copd_cases_over_beds = round((copd_count / beds) * 100, 2)\n",
        "        hospital_output_list.append([hospital, copd_count, pct_of_copd_cases_over_beds, avg_score, f\"{avg_risk}%\"])\n",
        "\n",
        "###\n",
        "\n",
        "# Write Patient_output.csv\n",
        "    with open(patient_output_csv, 'w', newline='') as csvfile:\n",
        "        writer = csv.writer(csvfile)\n",
        "        writer.writerows(patient_results)\n",
        "        print(f\"Patient output CSV created: {patient_output_csv}\")\n",
        "\n",
        "    # Write Hospital_output.csv\n",
        "    with open(hospital_output_csv, 'w', newline='') as csvfile:\n",
        "        writer = csv.writer(csvfile)\n",
        "        writer.writerows(hospital_output_list)\n",
        "        print(f\"Hospital output CSV created: {hospital_output_csv}\")\n"
      ]
    },
    {
      "cell_type": "code",
      "source": [
        "midterm_assignment(\"/content/patient.csv\", \"/content/hospitals.json\", \"patient_output.csv\", \"hospital_output.csv\")\n",
        "#to know if the files are created."
      ],
      "metadata": {
        "id": "ra3NenwE1wtC",
        "outputId": "8ecb7b97-d537-4a09-9b9c-d9e86a6c36b4",
        "colab": {
          "base_uri": "https://localhost:8080/"
        }
      },
      "execution_count": 20,
      "outputs": [
        {
          "output_type": "stream",
          "name": "stdout",
          "text": [
            "Patient output CSV created: patient_output.csv\n",
            "Hospital output CSV created: hospital_output.csv\n"
          ]
        }
      ]
    }
  ],
  "metadata": {
    "language_info": {
      "name": "python"
    },
    "colab": {
      "provenance": [],
      "include_colab_link": true
    },
    "kernelspec": {
      "name": "python3",
      "display_name": "Python 3"
    }
  },
  "nbformat": 4,
  "nbformat_minor": 0
}