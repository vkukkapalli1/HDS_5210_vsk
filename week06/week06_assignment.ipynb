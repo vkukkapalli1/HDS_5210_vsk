{
  "cells": [
    {
      "cell_type": "markdown",
      "metadata": {
        "id": "view-in-github",
        "colab_type": "text"
      },
      "source": [
        "<a href=\"https://colab.research.google.com/github/vkukkapalli1/HDS_5210_vsk/blob/main/week06/week06_assignment.ipynb\" target=\"_parent\"><img src=\"https://colab.research.google.com/assets/colab-badge.svg\" alt=\"Open In Colab\"/></a>"
      ]
    },
    {
      "cell_type": "markdown",
      "metadata": {
        "nbgrader": {
          "grade": false,
          "grade_id": "intro",
          "locked": true,
          "schema_version": 1,
          "solution": false
        },
        "id": "uV62HYb0mXfC"
      },
      "source": [
        "# Week 6 Exercises\n",
        "\n",
        "_McKinney 6.1_\n",
        "\n",
        "There are multiple ways to solve the problems below.  You can use any one of several approaches.  For example, you can read CSV files using Pandas or the csv module.  Your score won't depend on which modules you choose to use unless explicitly noted below, but your programming style will still matter."
      ]
    },
    {
      "cell_type": "markdown",
      "metadata": {
        "nbgrader": {
          "grade": false,
          "grade_id": "q1-description",
          "locked": true,
          "schema_version": 1,
          "solution": false
        },
        "id": "T5MZdB4smXfT"
      },
      "source": [
        "### 30.1 List of Allergies\n",
        "\n",
        "In the /data directory on the Jupyter server, there is a file called `allergies.json` that contains a list of patient allergies.  It is taken from sample data provided by the EHR vendor, Epic, here: https://open.epic.com/Clinical/Allergy\n",
        "\n",
        "Take some time to look at the structure of the file.  You can open it directly in Jupyter by clicking the _Home_ icon, then the _from_instructor_ folder, and then the _data_ folder.\n",
        "\n",
        "Within the file, you'll see that it is a dictionary with many items in it.  One of those items is called `entry` and that item is a list of things.  You can tell that because the item name is immediately followed by an opening square bracket, signifying the start of a list.  It's line 11 of the file: `  \"entry\": [`\n",
        "\n",
        "Write a function named `allergy_count(json_file)` that takes as one parameter the name of the JSON file and returns an integer number of entries in that file.  Your function should open the file, read the json into a Python object, and return how many items there are in the list of `entry`s."
      ]
    },
    {
      "cell_type": "code",
      "execution_count": 46,
      "metadata": {
        "id": "lCb_1p58mXfX"
      },
      "outputs": [],
      "source": [
        "import json\n",
        "ALLERGIES_FILE=\"allergies.json\""
      ]
    },
    {
      "cell_type": "code",
      "execution_count": 47,
      "metadata": {
        "nbgrader": {
          "grade": false,
          "grade_id": "q1-answer",
          "locked": false,
          "schema_version": 1,
          "solution": true
        },
        "id": "Cz1TXylOmXfd"
      },
      "outputs": [],
      "source": [
        "# Put your solution here\n",
        "def allergy_count(json_file):\n",
        "    with open(json_file, \"r\") as f:\n",
        "        # Load data into python object\n",
        "        data = json.load(f)\n",
        "        if \"entry\" in data:\n",
        "            return len(data[\"entry\"])\n",
        "        else:\n",
        "            return 0"
      ]
    },
    {
      "cell_type": "code",
      "execution_count": 48,
      "metadata": {
        "id": "Az-CMsEUmXff",
        "outputId": "72b70bbd-4eae-4978-cc5b-308842f5cdd8",
        "colab": {
          "base_uri": "https://localhost:8080/"
        }
      },
      "outputs": [
        {
          "output_type": "execute_result",
          "data": {
            "text/plain": [
              "4"
            ]
          },
          "metadata": {},
          "execution_count": 48
        }
      ],
      "source": [
        "allergy_count(ALLERGIES_FILE)"
      ]
    },
    {
      "cell_type": "code",
      "execution_count": 17,
      "metadata": {
        "nbgrader": {
          "grade": true,
          "grade_id": "q1-tests",
          "locked": true,
          "points": 5,
          "schema_version": 1,
          "solution": false
        },
        "id": "IqTpeO_cmXfg"
      },
      "outputs": [],
      "source": [
        "assert type(allergy_count(ALLERGIES_FILE)) == int\n",
        "assert allergy_count(ALLERGIES_FILE) == 4"
      ]
    },
    {
      "cell_type": "markdown",
      "metadata": {
        "id": "cvjGKXLomXfi"
      },
      "source": [
        "### 30.2 Number of Patients\n",
        "\n",
        "If you dig a little bit deaper into this list of allergies, you'll see that each result has a patient associated with it.  Create a funcation called `patient_count(json_file)` that will count how many unique patients we have in this JSON structure.  "
      ]
    },
    {
      "cell_type": "code",
      "execution_count": 49,
      "metadata": {
        "id": "PkXp3nXPmXfl"
      },
      "outputs": [],
      "source": [
        "# Put your solution here\n",
        "def patient_count(json_file):\n",
        "    patient_count = []\n",
        "    with open(json_file, \"r\") as f:\n",
        "        data = json.load(f)\n",
        "        for entry in data[\"entry\"]:\n",
        "            patient = entry[\"resource\"][\"patient\"][\"display\"]\n",
        "            if patient not in patient_count:\n",
        "                patient_count.append(patient)\n",
        "    return len(patient_count)"
      ]
    },
    {
      "cell_type": "code",
      "execution_count": 50,
      "metadata": {
        "id": "WViHd5ComXfm",
        "outputId": "740b5fef-4c3b-4e82-8b45-7201309df6e2",
        "colab": {
          "base_uri": "https://localhost:8080/"
        }
      },
      "outputs": [
        {
          "output_type": "execute_result",
          "data": {
            "text/plain": [
              "2"
            ]
          },
          "metadata": {},
          "execution_count": 50
        }
      ],
      "source": [
        "patient_count(ALLERGIES_FILE)"
      ]
    },
    {
      "cell_type": "code",
      "execution_count": 51,
      "metadata": {
        "id": "C-O9ox5KmXfo"
      },
      "outputs": [],
      "source": [
        "assert type(patient_count(ALLERGIES_FILE)) == int\n",
        "assert patient_count(ALLERGIES_FILE) == 2"
      ]
    },
    {
      "cell_type": "markdown",
      "metadata": {
        "id": "xZJ6GtWumXfq"
      },
      "source": [
        "### 30.3 How Many Allergies per Patient\n",
        "\n",
        "Although each entry is a separate allergy, several of them are for the same patient.  Write a function called `allergy_per_patient(json_file)` that counts up how many allergies each patient has.\n"
      ]
    },
    {
      "cell_type": "code",
      "execution_count": 52,
      "metadata": {
        "id": "D3w_xZ-ZmXfr"
      },
      "outputs": [],
      "source": [
        "# Put your solution here\n",
        "def allergy_per_patient(json_file):\n",
        "    allergy_per_patient = {}\n",
        "    with open(json_file, \"r\") as f:\n",
        "        data = json.load(f)\n",
        "        for entry in data[\"entry\"]:\n",
        "            patient = entry[\"resource\"][\"patient\"][\"display\"]\n",
        "            if patient in allergy_per_patient:\n",
        "                allergy_per_patient[patient] += 1\n",
        "            else:\n",
        "                allergy_per_patient[patient] = 1\n",
        "    return allergy_per_patient"
      ]
    },
    {
      "cell_type": "code",
      "execution_count": 53,
      "metadata": {
        "id": "4YQUL1E1mXfs",
        "outputId": "4aff45bd-da9a-4e2f-8ddc-2b0a381b9634",
        "colab": {
          "base_uri": "https://localhost:8080/"
        }
      },
      "outputs": [
        {
          "output_type": "execute_result",
          "data": {
            "text/plain": [
              "{'Jason Argonaut': 3, 'Paul Boal': 1}"
            ]
          },
          "metadata": {},
          "execution_count": 53
        }
      ],
      "source": [
        "allergy_per_patient(ALLERGIES_FILE)"
      ]
    },
    {
      "cell_type": "code",
      "execution_count": 54,
      "metadata": {
        "id": "OHWFCKSLmXft"
      },
      "outputs": [],
      "source": [
        "assert type(allergy_per_patient(ALLERGIES_FILE)) == dict\n",
        "assert allergy_per_patient(ALLERGIES_FILE) == {'Paul Boal': 1, 'Jason Argonaut': 3}"
      ]
    },
    {
      "cell_type": "markdown",
      "metadata": {
        "nbgrader": {
          "grade": false,
          "grade_id": "q2-question",
          "locked": true,
          "schema_version": 1,
          "solution": false
        },
        "id": "Wpo2Glk-mXfu"
      },
      "source": [
        "### 30.4 Patient Allergies and Reaction\n",
        "\n",
        "You'll see in the file that each of the items in the `entry` list have several other attributes including a patient name, substance text representation, and a reaction manifestation.  Create a function named `allergy_list(json_file)` that will create an output list that has patient name, allergy, and reaction for each `entry`.  The actual result you should get will be:\n",
        "\n",
        "```python\n",
        "[['Jason Argonaut', 'PENICILLIN G', 'Hives'],\n",
        " ['Paul Boal', 'PENICILLIN G', 'Bruising'],\n",
        " ['Jason Argonaut', 'SHELLFISH-DERIVED PRODUCTS', 'Itching'],\n",
        " ['Jason Argonaut', 'STRAWBERRY', 'Anaphylaxis']]\n",
        "```\n",
        "\n",
        "You'll notice that the reaction and the manifestation of that action are lists.  You only need to capture the first reaction and the first manifestation of the action.  That is, if there is a list of things, just output the first one."
      ]
    },
    {
      "cell_type": "code",
      "execution_count": 55,
      "metadata": {
        "nbgrader": {
          "grade": false,
          "grade_id": "q2-answer",
          "locked": false,
          "schema_version": 1,
          "solution": true
        },
        "id": "lV3aw3rumXfu"
      },
      "outputs": [],
      "source": [
        "# Put your solution here\n",
        "def allergy_list(json_file):\n",
        "    with open(json_file) as file:\n",
        "        data = json.load(file)\n",
        "    result = []\n",
        "    for entry in data['entry']:\n",
        "        patient = entry['resource']['patient']['display']\n",
        "        allergy = entry['resource']['substance']['text']\n",
        "        reaction = entry['resource']['reaction'][0]['manifestation'][0]['text']\n",
        "\n",
        "        result.append([patient, allergy, reaction])\n",
        "\n",
        "    return sorted(result)"
      ]
    },
    {
      "cell_type": "code",
      "execution_count": 56,
      "metadata": {
        "id": "sbGK76IPmXfv",
        "outputId": "1738dcb0-5333-4dee-e79b-25b7ad1b10fa",
        "colab": {
          "base_uri": "https://localhost:8080/"
        }
      },
      "outputs": [
        {
          "output_type": "execute_result",
          "data": {
            "text/plain": [
              "[['Jason Argonaut', 'PENICILLIN G', 'Hives'],\n",
              " ['Jason Argonaut', 'SHELLFISH-DERIVED PRODUCTS', 'Itching'],\n",
              " ['Jason Argonaut', 'STRAWBERRY', 'Anaphylaxis'],\n",
              " ['Paul Boal', 'PENICILLIN G', 'Bruising']]"
            ]
          },
          "metadata": {},
          "execution_count": 56
        }
      ],
      "source": [
        "allergy_list(ALLERGIES_FILE)"
      ]
    },
    {
      "cell_type": "code",
      "execution_count": 57,
      "metadata": {
        "nbgrader": {
          "grade": true,
          "grade_id": "q2-tests",
          "locked": true,
          "points": 10,
          "schema_version": 1,
          "solution": false
        },
        "id": "D463gDhvmXfv"
      },
      "outputs": [],
      "source": [
        "assert allergy_list(ALLERGIES_FILE) == [['Jason Argonaut', 'PENICILLIN G', 'Hives'],\n",
        " ['Jason Argonaut', 'SHELLFISH-DERIVED PRODUCTS', 'Itching'],\n",
        " ['Jason Argonaut', 'STRAWBERRY', 'Anaphylaxis'],\n",
        " ['Paul Boal', 'PENICILLIN G', 'Bruising']]\n"
      ]
    },
    {
      "cell_type": "markdown",
      "metadata": {
        "nbgrader": {
          "grade": false,
          "grade_id": "q3-question",
          "locked": true,
          "schema_version": 1,
          "solution": false
        },
        "id": "M9L0O8FrmXfw"
      },
      "source": [
        "### 30.5 Allergy Reaction\n",
        "\n",
        "Write a function called `allergy_reaction(json_file,patient,substance)` that takes three parameter and returns the reaction that will happen if the patient takes the specified substance.  You can solve this, in part, by calling your `allergy_list` function inside your new `allergy_reaction` function.\n",
        "\n",
        "If the substance is not found in the allergy list, the function should return None."
      ]
    },
    {
      "cell_type": "code",
      "execution_count": 61,
      "metadata": {
        "nbgrader": {
          "grade": false,
          "grade_id": "q3-answer",
          "locked": false,
          "schema_version": 1,
          "solution": true
        },
        "id": "h5YdmzwemXfx"
      },
      "outputs": [],
      "source": [
        "# Put your solution here\n",
        "def allergy_reaction(json_file, patient, substance):\n",
        "    allergies = allergy_list(json_file)\n",
        "    for record in allergies:\n",
        "        if record[0] == patient and record[1] == substance:\n",
        "            return record[2]\n",
        "    return None"
      ]
    },
    {
      "cell_type": "code",
      "execution_count": 62,
      "metadata": {
        "id": "_L0P9ltwmXfx",
        "outputId": "6bf75dd1-9afa-41cb-9633-5c0b6aed4cb4",
        "colab": {
          "base_uri": "https://localhost:8080/",
          "height": 35
        }
      },
      "outputs": [
        {
          "output_type": "execute_result",
          "data": {
            "text/plain": [
              "'Hives'"
            ],
            "application/vnd.google.colaboratory.intrinsic+json": {
              "type": "string"
            }
          },
          "metadata": {},
          "execution_count": 62
        }
      ],
      "source": [
        "allergy_reaction(ALLERGIES_FILE, 'Jason Argonaut', 'PENICILLIN G')"
      ]
    },
    {
      "cell_type": "code",
      "execution_count": 63,
      "metadata": {
        "nbgrader": {
          "grade": true,
          "grade_id": "q3-tests",
          "locked": true,
          "points": 5,
          "schema_version": 1,
          "solution": false
        },
        "id": "3EnBGE9jmXfy"
      },
      "outputs": [],
      "source": [
        "assert allergy_reaction(ALLERGIES_FILE, 'Jason Argonaut', 'PENICILLIN G') == 'Hives'\n",
        "assert allergy_reaction(ALLERGIES_FILE, 'Jason Argonaut', 'SHELLFISH-DERIVED PRODUCTS') == 'Itching'\n",
        "assert allergy_reaction(ALLERGIES_FILE, 'Jason Argonaut', 'STRAWBERRY') == 'Anaphylaxis'\n",
        "assert allergy_reaction(ALLERGIES_FILE, 'Jason Argonaut', 'PENICILLIN') == None\n",
        "assert allergy_reaction(ALLERGIES_FILE, 'Paul Boal', 'PENICILLIN G') == 'Bruising'"
      ]
    },
    {
      "cell_type": "markdown",
      "source": [],
      "metadata": {
        "id": "Em38I7bmfW-e"
      }
    },
    {
      "cell_type": "markdown",
      "metadata": {
        "id": "BB3rMhPdmXfz"
      },
      "source": [
        "---\n",
        "\n",
        "## Check your work above\n",
        "\n",
        "If you didn't get them all correct, take a few minutes to think through those that aren't correct.\n",
        "\n",
        "\n",
        "## Submitting Your Work\n",
        "\n",
        "In order to submit your work, you'll need to save this notebook file back to GitHub.  To do that in Google Colab:\n",
        "1. File -> Save a Copy in GitHub\n",
        "2. Make sure your HDS5210 repository is selected\n",
        "3. Make sure the file name includes the week number like this: `week06/week06_assignment_2.ipynb`\n",
        "4. Add a commit message that means something\n",
        "\n",
        "**Be sure week names are lowercase and use a two digit week number!!**\n",
        "\n",
        "**Be sure you use the same file name provided by the instructor!!**\n",
        "\n"
      ]
    }
  ],
  "metadata": {
    "celltoolbar": "Create Assignment",
    "kernelspec": {
      "display_name": "Python 3",
      "language": "python",
      "name": "python3"
    },
    "language_info": {
      "codemirror_mode": {
        "name": "ipython",
        "version": 3
      },
      "file_extension": ".py",
      "mimetype": "text/x-python",
      "name": "python",
      "nbconvert_exporter": "python",
      "pygments_lexer": "ipython3",
      "version": "3.9.16"
    },
    "colab": {
      "provenance": [],
      "include_colab_link": true
    }
  },
  "nbformat": 4,
  "nbformat_minor": 0
}