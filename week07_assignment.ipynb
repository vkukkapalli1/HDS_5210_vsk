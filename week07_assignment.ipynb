{
  "cells": [
    {
      "cell_type": "markdown",
      "metadata": {
        "id": "view-in-github",
        "colab_type": "text"
      },
      "source": [
        "<a href=\"https://colab.research.google.com/github/vkukkapalli1/HDS_5210_vsk/blob/main/week07_assignment.ipynb\" target=\"_parent\"><img src=\"https://colab.research.google.com/assets/colab-badge.svg\" alt=\"Open In Colab\"/></a>"
      ]
    },
    {
      "cell_type": "markdown",
      "metadata": {
        "id": "FV_LRzwFvaye"
      },
      "source": [
        "# Week 7 Assignment\n",
        "\n",
        "We've been working with different types of data structures in Python (dictionary, list, etc), how those are represented in JSON documents, and how to write code to access specific data elements. In this week's assignment, you will need to create your own JSON document to store information about yourself and the grades you've received from week 1 to week 4 and the week 6 quiz.  That is, everything you should have received a grade for.  Then you'll need to show me you know how to navigate the JSON in that file.\n",
        "\n",
        "Different from what we've done in the past, you do not have to write any functions or include any docstrings.  Just create some JSON and write some code.\n",
        "\n",
        "---"
      ]
    },
    {
      "cell_type": "markdown",
      "metadata": {
        "id": "WGFbhffCvayk"
      },
      "source": [
        "## 7.1 Create a JSON file\n",
        "\n",
        "Create a JSON file that contains your name, email, year you were born, all of the grades you've received back so far, and a comment about what you thought was most challenging on each of those assignments.  This can be any structure you choose, but make sure it uses a dictionary and a list, and has at least two levels of hierarchy.  That is, it can't just be one big long list."
      ]
    },
    {
      "cell_type": "markdown",
      "metadata": {
        "id": "H114JK53vayl"
      },
      "source": [
        "First, explain how your data structure is going to look..."
      ]
    },
    {
      "cell_type": "markdown",
      "metadata": {
        "id": "qdg9BJ7zvaym"
      },
      "source": [
        "* The structure would have of a dictionary called \"hds5210\" wich consists information on other dictionaries called \"me\" and \"liverpool_fc_stats_2024_25\". In the later dictionary it consists of other lists called \"competitions\" and \"players\". Those both lists also contain other dictionaries."
      ]
    },
    {
      "cell_type": "markdown",
      "metadata": {
        "id": "ioL_DDsVvaym"
      },
      "source": [
        "Then put the actual JSON you've created inside the multiline string below..."
      ]
    },
    {
      "cell_type": "code",
      "execution_count": 40,
      "metadata": {
        "id": "TB9n16lFvayn"
      },
      "outputs": [],
      "source": [
        "hds5210 = \"\"\"\n",
        "{\n",
        "  \"me\": {\n",
        "    \"name\": \"Venkata Sai Krishna K\",\n",
        "    \"email\": \"venkatasaikrishna.kukkapalli@slu.edu\",\n",
        "    \"birthday\": \"29th September 1997\"\n",
        "  },\n",
        "  \"liverpool_fc_stats_2024_25\": {\n",
        "    \"competitions\": [\n",
        "      {\n",
        "        \"name\": \"Premier League\",\n",
        "        \"matches_played\": 7,\n",
        "        \"wins\": 6,\n",
        "        \"draws\": 0,\n",
        "        \"losses\": 1\n",
        "      },\n",
        "      {\n",
        "        \"name\": \"Champions League\",\n",
        "        \"matches_played\": 2,\n",
        "        \"wins\": 2,\n",
        "        \"draws\": 0,\n",
        "        \"losses\": 0\n",
        "      }\n",
        "    ],\n",
        "    \"players\": [\n",
        "      {\n",
        "        \"name\": \"Alisson Becker\",\n",
        "        \"position\": \"Goalkeeper\",\n",
        "        \"clean_sheets\": 5,\n",
        "        \"assists\": 0\n",
        "      },\n",
        "      {\n",
        "        \"name\": \"Virgil van Dijk\",\n",
        "        \"position\": \"Defender\",\n",
        "        \"clean_sheets\": 6,\n",
        "        \"goals_scored\": 1,\n",
        "        \"assists\": 0\n",
        "      },\n",
        "      {\n",
        "        \"name\": \"Trent Alexander-Arnold\",\n",
        "        \"position\": \"Defender\",\n",
        "        \"clean_sheets\": 6,\n",
        "        \"goals_scored\": 0,\n",
        "        \"assists\": 2\n",
        "      },\n",
        "      {\n",
        "        \"name\": \"Ryan Gravenberch\",\n",
        "        \"position\": \"Midfielder\",\n",
        "        \"clean_sheets\": 6,\n",
        "        \"goals_scored\": 0,\n",
        "        \"assists\": 0\n",
        "      },\n",
        "      {\n",
        "        \"name\": \"Mohamed Salah\",\n",
        "        \"position\": \"Forward\",\n",
        "        \"goals_scored\": 5,\n",
        "        \"assists\": 6\n",
        "      },\n",
        "      {\n",
        "        \"name\": \"Luis Diaz\",\n",
        "        \"position\": \"Forward\",\n",
        "        \"goals_scored\": 5,\n",
        "        \"assists\": 1\n",
        "      },\n",
        "      {\n",
        "        \"name\": \"Diogo Jota\",\n",
        "        \"position\": \"Forward\",\n",
        "        \"goals_scored\": 2,\n",
        "        \"assists\": 2\n",
        "      }\n",
        "    ]\n",
        "  }\n",
        "}\n",
        "\"\"\""
      ]
    },
    {
      "cell_type": "markdown",
      "metadata": {
        "id": "1CK3wFyzvayo"
      },
      "source": [
        "## 7.2 Do something with your JSON\n",
        "\n",
        "Now use Python code to do something with the Json above.  Turn it into English text, but make sure that you use at least one loop to access some dict or list content of your JSON.  Below, I've provided some basic code to read in the string above as JSON and return a Python object.  Your job is to work with that data structure and print out the important information like your name, email, and how you did on each assignment."
      ]
    },
    {
      "cell_type": "code",
      "execution_count": 42,
      "metadata": {
        "colab": {
          "base_uri": "https://localhost:8080/"
        },
        "id": "F70vfs-wvayp",
        "outputId": "f1780960-405f-4ff6-b0c0-02db99749a20"
      },
      "outputs": [
        {
          "output_type": "stream",
          "name": "stdout",
          "text": [
            "Hello, my name is Venkata Sai Krishna K and I'm born on 29th September 1997.My email is venkatasaikrishna.kukkapalli@slu.edu.\n",
            "Liverpool FC is my favorite football club in the English Premier League.\n",
            "\n",
            "They are having an amazing season so far in 2024-25.\n",
            "Total Matches they Played: 9\n",
            "Total matches they WON or DREW in this season are : 8\n",
            "\n",
            "Player Stats:\n",
            "Alisson Becker - Position: Goalkeeper, Clean Sheets: 5\n",
            "Virgil van Dijk - Position: Defender, Goals Scored: 1, Clean Sheets: 6\n",
            "Trent Alexander-Arnold - Position: Defender, Clean Sheets: 6, Assists: 2\n",
            "Ryan Gravenberch - Position: Midfielder, Clean Sheets: 6\n",
            "Mohamed Salah - Position: Forward, Goals Scored: 5, Assists: 6\n",
            "Luis Diaz - Position: Forward, Goals Scored: 5, Assists: 1\n",
            "Diogo Jota - Position: Forward, Goals Scored: 2, Assists: 2\n"
          ]
        }
      ],
      "source": [
        "import json\n",
        "\n",
        "info = json.loads(hds5210)\n",
        "# Put your code to output a paragraph of English text here\n",
        "competitions = info[\"liverpool_fc_stats_2024_25\"][\"competitions\"]\n",
        "total_matches_played = sum(comp[\"matches_played\"] for comp in competitions)\n",
        "total_wins = sum(comp[\"wins\"] for comp in competitions)\n",
        "total_draws = sum(comp[\"draws\"] for comp in competitions)\n",
        "\n",
        "player_stats = []\n",
        "for player in info[\"liverpool_fc_stats_2024_25\"][\"players\"]:\n",
        "    stats = f\"{player['name']} - Position: {player['position']}\"\n",
        "    if \"goals_scored\" in player and player[\"goals_scored\"] > 0:\n",
        "        stats += f\", Goals Scored: {player['goals_scored']}\"\n",
        "    if \"clean_sheets\" in player and player[\"clean_sheets\"] > 0:\n",
        "        stats += f\", Clean Sheets: {player['clean_sheets']}\"\n",
        "    if \"assists\" in player and player[\"assists\"] > 0:\n",
        "        stats += f\", Assists: {player['assists']}\"\n",
        "    player_stats.append(stats)\n",
        "\n",
        "my_name = (info['me']['name'])\n",
        "my_birthday = (info['me']['birthday'])\n",
        "my_email =  (info['me']['email'])\n",
        "\n",
        "output = (f\"Hello, my name is {my_name} and I'm born on {my_birthday}.My email is {my_email}.\\n\"\n",
        "          f\"Liverpool FC is my favorite football club in the English Premier League.\\n\\n\"\n",
        "          f\"They are having an amazing season so far in 2024-25.\\n\"\n",
        "          f\"Total Matches they Played: {total_matches_played}\\n\"\n",
        "          f\"Total matches they WON or DREW in this season are : {total_wins + total_draws}\\n\\n\"\n",
        "          f\"Player Stats:\\n\" + \"\\n\".join(player_stats))\n",
        "\n",
        "print(output)\n"
      ]
    },
    {
      "cell_type": "markdown",
      "metadata": {
        "id": "dxJHuwtBvayq"
      },
      "source": [
        "## 7.3 Reflect\n",
        "\n",
        "Write a paragraph on any reflections you have. Was this hard? Easy?  What parts were most challenging or easiest? What did you like or dislike about the assignment?  Share whatever important thoughts you have abou this assignment."
      ]
    },
    {
      "cell_type": "markdown",
      "metadata": {
        "id": "wQqJY42Gvayq"
      },
      "source": [
        "This week 7 assignment was unique compared to the other assignments we had so far. Though we had practiced creating lists or dictionaries in previous weeks, using them to create a JSON was a learning step.\n",
        "\n",
        "It was not easy to intially get a structure on what I want to reflect in the data I'm adding in the JSON and finally settled with the above on just the basic stats on few key players this season from my favorite football/soccer club. The difficult part where I was stuck for a while, was when there was an error in the JSON intially where I strruggled for a while to find what went wrong. It was later solved.\n",
        "\n",
        "I enjoyed working on this assignment as it was informative to learn creating dictionaries of lists of dictionaries, JSON and the freedom to do the assignment on a topic I enjoy the most. It made me learn more easily since I sortof knew the values I'm working with.\n",
        "\n",
        "\n"
      ]
    },
    {
      "cell_type": "markdown",
      "metadata": {
        "id": "u1dfpc-4vayq"
      },
      "source": [
        "---\n",
        "\n",
        "# Example\n",
        "\n",
        "Below is an example of something similar, but this uses information my and my friend's kids instead of grades."
      ]
    },
    {
      "cell_type": "code",
      "execution_count": null,
      "metadata": {
        "id": "q2zk0yVkvayr",
        "outputId": "02c9a4ee-3f85-44ec-9ff8-0c02e634890f"
      },
      "outputs": [
        {
          "name": "stdout",
          "output_type": "stream",
          "text": [
            "Hi, my name is Paul. I've got 3 kids. Their names are Ellie, Ada, Teddy.\n",
            "My friend, Anny has 1 kids. That's fewer than me. Their names are 1\n"
          ]
        }
      ],
      "source": [
        "hds5210 = \"\"\"\n",
        "{\n",
        "    \"me\": {\n",
        "        \"name\": \"Paul\",\n",
        "        \"kids\": [\"Ellie\", \"Ada\", \"Teddy\"]\n",
        "    },\n",
        "    \"friend\": {\n",
        "        \"name\": \"Anny\",\n",
        "        \"kids\": [\"Abby\"]\n",
        "    }\n",
        "}\n",
        "\"\"\"\n",
        "\n",
        "import json\n",
        "\n",
        "info = json.loads(hds5210)\n",
        "\n",
        "me = info[\"me\"][\"name\"]\n",
        "my_kids_count = len(info[\"me\"][\"kids\"])\n",
        "kids_list = \", \".join(info[\"me\"][\"kids\"])\n",
        "friend = info[\"friend\"][\"name\"]\n",
        "friends_kid_count = len(info[\"friend\"][\"kids\"])\n",
        "friend_kids = \", \".join(info[\"friend\"][\"kids\"])\n",
        "compare = \"more\" if friends_kid_count > my_kids_count else \"fewer\"\n",
        "\n",
        "print(f\"Hi, my name is {me}. I've got {my_kids_count} kids. Their names are {kids_list}.\")\n",
        "print(f\"My friend, {friend} has {friends_kid_count} kids. That's {compare} than me. Their names are {friends_kid_count}\")"
      ]
    }
  ],
  "metadata": {
    "kernelspec": {
      "display_name": "Python 3",
      "language": "python",
      "name": "python3"
    },
    "language_info": {
      "codemirror_mode": {
        "name": "ipython",
        "version": 3
      },
      "file_extension": ".py",
      "mimetype": "text/x-python",
      "name": "python",
      "nbconvert_exporter": "python",
      "pygments_lexer": "ipython3",
      "version": "3.9.16"
    },
    "colab": {
      "provenance": [],
      "include_colab_link": true
    }
  },
  "nbformat": 4,
  "nbformat_minor": 0
}