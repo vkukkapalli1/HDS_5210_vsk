{
  "cells": [
    {
      "cell_type": "markdown",
      "metadata": {
        "id": "OGdsMYP4rOEq"
      },
      "source": [
        "# Week 11 In-Class Challenge\n",
        "\n",
        "This week, we are doing an in-class exercise.  This will be worth 5 extra credit points for each team that creates a successful solution that follows the programming guidelines we've established this semester.  All the requirements for this programming challenge are described below.  If you complete them all successfully, you will receive 5 points.  If you do not, you will receive 0 points.\n",
        "\n",
        "Work as a group.  You will all receive the same number of points.\n",
        "\n",
        "## Requirements\n",
        "1. Your code must be a function named `week11()` that takes no parameters\n",
        "2. Your `week11()` function must read this CSV from the internet and use it as input: https://hds5210-data.s3.amazonaws.com/Section111ValidICD10-Jan2024.csv\n",
        "  * This file has three columns: CODE, SHORT DESCRIPTION, LONG DESCRIPTION, and NF EXCL\n",
        "  * The NF EXCL indicates that this code is excluded from a \"no fault\" list related to workers compensation insurance claims\n",
        "3. Your `week11()` function must use Pandas functions to generate new columns and filter the dataframe using the following rules\n",
        "   * Create a new column called \"CODE TYPE\" that contains only the first character of the CODE column. For example if CODE=\"A001\" then CODE TYPE=\"A\"\n",
        "   * Create a new column called \"CODE NUM\" that contains only the numeric part of the CODE column and make it numeric. For example if CODE=\"A001\" then CODE NUM=1\n",
        "   * Some CODE NUM portions cannot be converted directly because the have an \"X\" in them.  Convert that \"X\" to a \".\" and then conver the CODE NUM to a numeric value.  For example if CODE=\"E1037X1\" then CODE NUM=1037.1\n",
        "   * Filter your results to only include those rows where NF EXCL=\"Y\"\n",
        "   * Sort your results in ascending order by CODE NUM and then by CODE TYPE\n",
        "4. Use the \"checker\" in the last cell to confirm that your results are correct.  If the checker gives any errors, you will receive no credit.\n",
        "\n",
        "\n",
        "## Submitting\n",
        "Submit the assignment by creating a folder called week11_inclass in the repository of one of the people in your group. At the top of your submission, enter the names of all of the people in your group..\n",
        "\n",
        "## Scoring Rubric\n",
        "If your code passes my checker included at the bottom of this page, each person on your team will earn 5 points.  If you code does not pass my checker, you will earn 0 points. This is \"all or nothing\" extra credit.\n",
        "\n",
        "---"
      ]
    },
    {
      "cell_type": "markdown",
      "source": [
        "## GROUP MEMBERS\n",
        "\n",
        "\n",
        "1.   SANA\n",
        "2.   DHANVANTHARI VAIBHAV INDUKURI\n",
        "\n",
        "1.   VENKATA SAI KRISHNA KUKKAPALLI\n",
        "\n",
        "1.   DHANRAJ PALLAPATI\n",
        "2.   SAI KIRAN BODDU\n",
        "\n",
        "\n",
        "\n",
        "\n",
        "\n",
        "\n",
        "\n",
        "\n",
        "\n"
      ],
      "metadata": {
        "id": "p-AdqCCBTrex"
      }
    },
    {
      "cell_type": "code",
      "source": [],
      "metadata": {
        "id": "x2TTBhhTTrAF"
      },
      "execution_count": null,
      "outputs": []
    },
    {
      "cell_type": "code",
      "execution_count": 49,
      "metadata": {
        "id": "U5xZvPuirOEs"
      },
      "outputs": [],
      "source": [
        "# I've provide you code here to start with.\n",
        "\n",
        "import pandas as pd\n",
        "\n",
        "def week11():\n",
        "    \"\"\"() -> pd.DataFrame\n",
        "\n",
        "    This function will process the file named in step 2 of the instructions above\n",
        "    using the rules in step 3 above.  It will return a dataframe that contains\n",
        "    the filtered, sorted, and enhanced results.\n",
        "\n",
        "    For my tests, I will validate the shape to start with.\n",
        "    If I have more time, I can figure out how to write tests for the other requirements.\n",
        "\n",
        "    >>> week11().shape\n",
        "    (1098, 6)\n",
        "    \"\"\"\n",
        "    hospitals = pd.read_csv('https://hds5210-data.s3.amazonaws.com/Section111ValidICD10-Jan2024.csv')\n",
        "\n",
        "    # Do your work here\n",
        "    # and return a final data frame\n",
        "    hospitals['CODE TYPE'] = hospitals['CODE'].str[0]\n",
        "    hospitals['CODE NUM'] = hospitals['CODE'].str[1:].str.replace('X', '.').astype(int)\n",
        "    filtered_hospitals = hospitals[hospitals['NF EXCL'] == 'Y']\n",
        "    sorted_hospitals = filtered_hospitals.sort_values(by=['CODE TYPE', 'CODE NUM'])\n",
        "\n",
        "    return sorted_hospitals\n",
        "    # This is a dummy piece of code that just passes my one doctest.\n",
        "    # Obviously, it won't pass the checker at the bottom.\n",
        "    # You'll want to delete this before you try checking your answer.\n",
        "\n"
      ]
    },
    {
      "cell_type": "code",
      "source": [
        "week11().head()"
      ],
      "metadata": {
        "id": "C1JvIa-fLEhq",
        "outputId": "7899faf5-4f32-4be2-89fe-774ea2f19c96",
        "colab": {
          "base_uri": "https://localhost:8080/",
          "height": 206
        }
      },
      "execution_count": 50,
      "outputs": [
        {
          "output_type": "execute_result",
          "data": {
            "text/plain": [
              "        CODE                        SHORT DESCRIPTION  \\\n",
              "11147  A7982        Anaplasmosis [A. phagocytophilum]   \n",
              "2524    B373          Candidiasis of vulva and vagina   \n",
              "8163   B3731    Acute candidiasis of vulva and vagina   \n",
              "8164   B3732  Chronic candidiasis of vulva and vagina   \n",
              "3639    C563  Malignant neoplasm of bilateral ovaries   \n",
              "\n",
              "                              LONG DESCRIPTION NF EXCL CODE TYPE  CODE NUM  \n",
              "11147        Anaplasmosis [A. phagocytophilum]       Y         A      7982  \n",
              "2524           Candidiasis of vulva and vagina       Y         B       373  \n",
              "8163     Acute candisiasis of vulva and vagina       Y         B      3731  \n",
              "8164   Chronic candidiasis of vulva and vagina       Y         B      3732  \n",
              "3639   Malignant neoplasm of bilateral ovaries       Y         C       563  "
            ],
            "text/html": [
              "\n",
              "  <div id=\"df-93ca0682-a0f5-4d73-a8dd-4244256aceb0\" class=\"colab-df-container\">\n",
              "    <div>\n",
              "<style scoped>\n",
              "    .dataframe tbody tr th:only-of-type {\n",
              "        vertical-align: middle;\n",
              "    }\n",
              "\n",
              "    .dataframe tbody tr th {\n",
              "        vertical-align: top;\n",
              "    }\n",
              "\n",
              "    .dataframe thead th {\n",
              "        text-align: right;\n",
              "    }\n",
              "</style>\n",
              "<table border=\"1\" class=\"dataframe\">\n",
              "  <thead>\n",
              "    <tr style=\"text-align: right;\">\n",
              "      <th></th>\n",
              "      <th>CODE</th>\n",
              "      <th>SHORT DESCRIPTION</th>\n",
              "      <th>LONG DESCRIPTION</th>\n",
              "      <th>NF EXCL</th>\n",
              "      <th>CODE TYPE</th>\n",
              "      <th>CODE NUM</th>\n",
              "    </tr>\n",
              "  </thead>\n",
              "  <tbody>\n",
              "    <tr>\n",
              "      <th>11147</th>\n",
              "      <td>A7982</td>\n",
              "      <td>Anaplasmosis [A. phagocytophilum]</td>\n",
              "      <td>Anaplasmosis [A. phagocytophilum]</td>\n",
              "      <td>Y</td>\n",
              "      <td>A</td>\n",
              "      <td>7982</td>\n",
              "    </tr>\n",
              "    <tr>\n",
              "      <th>2524</th>\n",
              "      <td>B373</td>\n",
              "      <td>Candidiasis of vulva and vagina</td>\n",
              "      <td>Candidiasis of vulva and vagina</td>\n",
              "      <td>Y</td>\n",
              "      <td>B</td>\n",
              "      <td>373</td>\n",
              "    </tr>\n",
              "    <tr>\n",
              "      <th>8163</th>\n",
              "      <td>B3731</td>\n",
              "      <td>Acute candidiasis of vulva and vagina</td>\n",
              "      <td>Acute candisiasis of vulva and vagina</td>\n",
              "      <td>Y</td>\n",
              "      <td>B</td>\n",
              "      <td>3731</td>\n",
              "    </tr>\n",
              "    <tr>\n",
              "      <th>8164</th>\n",
              "      <td>B3732</td>\n",
              "      <td>Chronic candidiasis of vulva and vagina</td>\n",
              "      <td>Chronic candidiasis of vulva and vagina</td>\n",
              "      <td>Y</td>\n",
              "      <td>B</td>\n",
              "      <td>3732</td>\n",
              "    </tr>\n",
              "    <tr>\n",
              "      <th>3639</th>\n",
              "      <td>C563</td>\n",
              "      <td>Malignant neoplasm of bilateral ovaries</td>\n",
              "      <td>Malignant neoplasm of bilateral ovaries</td>\n",
              "      <td>Y</td>\n",
              "      <td>C</td>\n",
              "      <td>563</td>\n",
              "    </tr>\n",
              "  </tbody>\n",
              "</table>\n",
              "</div>\n",
              "    <div class=\"colab-df-buttons\">\n",
              "\n",
              "  <div class=\"colab-df-container\">\n",
              "    <button class=\"colab-df-convert\" onclick=\"convertToInteractive('df-93ca0682-a0f5-4d73-a8dd-4244256aceb0')\"\n",
              "            title=\"Convert this dataframe to an interactive table.\"\n",
              "            style=\"display:none;\">\n",
              "\n",
              "  <svg xmlns=\"http://www.w3.org/2000/svg\" height=\"24px\" viewBox=\"0 -960 960 960\">\n",
              "    <path d=\"M120-120v-720h720v720H120Zm60-500h600v-160H180v160Zm220 220h160v-160H400v160Zm0 220h160v-160H400v160ZM180-400h160v-160H180v160Zm440 0h160v-160H620v160ZM180-180h160v-160H180v160Zm440 0h160v-160H620v160Z\"/>\n",
              "  </svg>\n",
              "    </button>\n",
              "\n",
              "  <style>\n",
              "    .colab-df-container {\n",
              "      display:flex;\n",
              "      gap: 12px;\n",
              "    }\n",
              "\n",
              "    .colab-df-convert {\n",
              "      background-color: #E8F0FE;\n",
              "      border: none;\n",
              "      border-radius: 50%;\n",
              "      cursor: pointer;\n",
              "      display: none;\n",
              "      fill: #1967D2;\n",
              "      height: 32px;\n",
              "      padding: 0 0 0 0;\n",
              "      width: 32px;\n",
              "    }\n",
              "\n",
              "    .colab-df-convert:hover {\n",
              "      background-color: #E2EBFA;\n",
              "      box-shadow: 0px 1px 2px rgba(60, 64, 67, 0.3), 0px 1px 3px 1px rgba(60, 64, 67, 0.15);\n",
              "      fill: #174EA6;\n",
              "    }\n",
              "\n",
              "    .colab-df-buttons div {\n",
              "      margin-bottom: 4px;\n",
              "    }\n",
              "\n",
              "    [theme=dark] .colab-df-convert {\n",
              "      background-color: #3B4455;\n",
              "      fill: #D2E3FC;\n",
              "    }\n",
              "\n",
              "    [theme=dark] .colab-df-convert:hover {\n",
              "      background-color: #434B5C;\n",
              "      box-shadow: 0px 1px 3px 1px rgba(0, 0, 0, 0.15);\n",
              "      filter: drop-shadow(0px 1px 2px rgba(0, 0, 0, 0.3));\n",
              "      fill: #FFFFFF;\n",
              "    }\n",
              "  </style>\n",
              "\n",
              "    <script>\n",
              "      const buttonEl =\n",
              "        document.querySelector('#df-93ca0682-a0f5-4d73-a8dd-4244256aceb0 button.colab-df-convert');\n",
              "      buttonEl.style.display =\n",
              "        google.colab.kernel.accessAllowed ? 'block' : 'none';\n",
              "\n",
              "      async function convertToInteractive(key) {\n",
              "        const element = document.querySelector('#df-93ca0682-a0f5-4d73-a8dd-4244256aceb0');\n",
              "        const dataTable =\n",
              "          await google.colab.kernel.invokeFunction('convertToInteractive',\n",
              "                                                    [key], {});\n",
              "        if (!dataTable) return;\n",
              "\n",
              "        const docLinkHtml = 'Like what you see? Visit the ' +\n",
              "          '<a target=\"_blank\" href=https://colab.research.google.com/notebooks/data_table.ipynb>data table notebook</a>'\n",
              "          + ' to learn more about interactive tables.';\n",
              "        element.innerHTML = '';\n",
              "        dataTable['output_type'] = 'display_data';\n",
              "        await google.colab.output.renderOutput(dataTable, element);\n",
              "        const docLink = document.createElement('div');\n",
              "        docLink.innerHTML = docLinkHtml;\n",
              "        element.appendChild(docLink);\n",
              "      }\n",
              "    </script>\n",
              "  </div>\n",
              "\n",
              "\n",
              "<div id=\"df-0426b4fd-3f44-49ca-9b68-58ee3a6ba933\">\n",
              "  <button class=\"colab-df-quickchart\" onclick=\"quickchart('df-0426b4fd-3f44-49ca-9b68-58ee3a6ba933')\"\n",
              "            title=\"Suggest charts\"\n",
              "            style=\"display:none;\">\n",
              "\n",
              "<svg xmlns=\"http://www.w3.org/2000/svg\" height=\"24px\"viewBox=\"0 0 24 24\"\n",
              "     width=\"24px\">\n",
              "    <g>\n",
              "        <path d=\"M19 3H5c-1.1 0-2 .9-2 2v14c0 1.1.9 2 2 2h14c1.1 0 2-.9 2-2V5c0-1.1-.9-2-2-2zM9 17H7v-7h2v7zm4 0h-2V7h2v10zm4 0h-2v-4h2v4z\"/>\n",
              "    </g>\n",
              "</svg>\n",
              "  </button>\n",
              "\n",
              "<style>\n",
              "  .colab-df-quickchart {\n",
              "      --bg-color: #E8F0FE;\n",
              "      --fill-color: #1967D2;\n",
              "      --hover-bg-color: #E2EBFA;\n",
              "      --hover-fill-color: #174EA6;\n",
              "      --disabled-fill-color: #AAA;\n",
              "      --disabled-bg-color: #DDD;\n",
              "  }\n",
              "\n",
              "  [theme=dark] .colab-df-quickchart {\n",
              "      --bg-color: #3B4455;\n",
              "      --fill-color: #D2E3FC;\n",
              "      --hover-bg-color: #434B5C;\n",
              "      --hover-fill-color: #FFFFFF;\n",
              "      --disabled-bg-color: #3B4455;\n",
              "      --disabled-fill-color: #666;\n",
              "  }\n",
              "\n",
              "  .colab-df-quickchart {\n",
              "    background-color: var(--bg-color);\n",
              "    border: none;\n",
              "    border-radius: 50%;\n",
              "    cursor: pointer;\n",
              "    display: none;\n",
              "    fill: var(--fill-color);\n",
              "    height: 32px;\n",
              "    padding: 0;\n",
              "    width: 32px;\n",
              "  }\n",
              "\n",
              "  .colab-df-quickchart:hover {\n",
              "    background-color: var(--hover-bg-color);\n",
              "    box-shadow: 0 1px 2px rgba(60, 64, 67, 0.3), 0 1px 3px 1px rgba(60, 64, 67, 0.15);\n",
              "    fill: var(--button-hover-fill-color);\n",
              "  }\n",
              "\n",
              "  .colab-df-quickchart-complete:disabled,\n",
              "  .colab-df-quickchart-complete:disabled:hover {\n",
              "    background-color: var(--disabled-bg-color);\n",
              "    fill: var(--disabled-fill-color);\n",
              "    box-shadow: none;\n",
              "  }\n",
              "\n",
              "  .colab-df-spinner {\n",
              "    border: 2px solid var(--fill-color);\n",
              "    border-color: transparent;\n",
              "    border-bottom-color: var(--fill-color);\n",
              "    animation:\n",
              "      spin 1s steps(1) infinite;\n",
              "  }\n",
              "\n",
              "  @keyframes spin {\n",
              "    0% {\n",
              "      border-color: transparent;\n",
              "      border-bottom-color: var(--fill-color);\n",
              "      border-left-color: var(--fill-color);\n",
              "    }\n",
              "    20% {\n",
              "      border-color: transparent;\n",
              "      border-left-color: var(--fill-color);\n",
              "      border-top-color: var(--fill-color);\n",
              "    }\n",
              "    30% {\n",
              "      border-color: transparent;\n",
              "      border-left-color: var(--fill-color);\n",
              "      border-top-color: var(--fill-color);\n",
              "      border-right-color: var(--fill-color);\n",
              "    }\n",
              "    40% {\n",
              "      border-color: transparent;\n",
              "      border-right-color: var(--fill-color);\n",
              "      border-top-color: var(--fill-color);\n",
              "    }\n",
              "    60% {\n",
              "      border-color: transparent;\n",
              "      border-right-color: var(--fill-color);\n",
              "    }\n",
              "    80% {\n",
              "      border-color: transparent;\n",
              "      border-right-color: var(--fill-color);\n",
              "      border-bottom-color: var(--fill-color);\n",
              "    }\n",
              "    90% {\n",
              "      border-color: transparent;\n",
              "      border-bottom-color: var(--fill-color);\n",
              "    }\n",
              "  }\n",
              "</style>\n",
              "\n",
              "  <script>\n",
              "    async function quickchart(key) {\n",
              "      const quickchartButtonEl =\n",
              "        document.querySelector('#' + key + ' button');\n",
              "      quickchartButtonEl.disabled = true;  // To prevent multiple clicks.\n",
              "      quickchartButtonEl.classList.add('colab-df-spinner');\n",
              "      try {\n",
              "        const charts = await google.colab.kernel.invokeFunction(\n",
              "            'suggestCharts', [key], {});\n",
              "      } catch (error) {\n",
              "        console.error('Error during call to suggestCharts:', error);\n",
              "      }\n",
              "      quickchartButtonEl.classList.remove('colab-df-spinner');\n",
              "      quickchartButtonEl.classList.add('colab-df-quickchart-complete');\n",
              "    }\n",
              "    (() => {\n",
              "      let quickchartButtonEl =\n",
              "        document.querySelector('#df-0426b4fd-3f44-49ca-9b68-58ee3a6ba933 button');\n",
              "      quickchartButtonEl.style.display =\n",
              "        google.colab.kernel.accessAllowed ? 'block' : 'none';\n",
              "    })();\n",
              "  </script>\n",
              "</div>\n",
              "\n",
              "    </div>\n",
              "  </div>\n"
            ],
            "application/vnd.google.colaboratory.intrinsic+json": {
              "type": "dataframe",
              "summary": "{\n  \"name\": \"week11()\",\n  \"rows\": 5,\n  \"fields\": [\n    {\n      \"column\": \"CODE\",\n      \"properties\": {\n        \"dtype\": \"string\",\n        \"num_unique_values\": 5,\n        \"samples\": [\n          \"B373\",\n          \"C563\",\n          \"B3731\"\n        ],\n        \"semantic_type\": \"\",\n        \"description\": \"\"\n      }\n    },\n    {\n      \"column\": \"SHORT DESCRIPTION\",\n      \"properties\": {\n        \"dtype\": \"string\",\n        \"num_unique_values\": 5,\n        \"samples\": [\n          \"Candidiasis of vulva and vagina\",\n          \"Malignant neoplasm of bilateral ovaries\",\n          \"Acute candidiasis of vulva and vagina\"\n        ],\n        \"semantic_type\": \"\",\n        \"description\": \"\"\n      }\n    },\n    {\n      \"column\": \"LONG DESCRIPTION\",\n      \"properties\": {\n        \"dtype\": \"string\",\n        \"num_unique_values\": 5,\n        \"samples\": [\n          \"Candidiasis of vulva and vagina\",\n          \"Malignant neoplasm of bilateral ovaries\",\n          \"Acute candisiasis of vulva and vagina\"\n        ],\n        \"semantic_type\": \"\",\n        \"description\": \"\"\n      }\n    },\n    {\n      \"column\": \"NF EXCL\",\n      \"properties\": {\n        \"dtype\": \"category\",\n        \"num_unique_values\": 1,\n        \"samples\": [\n          \"Y\"\n        ],\n        \"semantic_type\": \"\",\n        \"description\": \"\"\n      }\n    },\n    {\n      \"column\": \"CODE TYPE\",\n      \"properties\": {\n        \"dtype\": \"string\",\n        \"num_unique_values\": 3,\n        \"samples\": [\n          \"A\"\n        ],\n        \"semantic_type\": \"\",\n        \"description\": \"\"\n      }\n    },\n    {\n      \"column\": \"CODE NUM\",\n      \"properties\": {\n        \"dtype\": \"number\",\n        \"std\": 3096,\n        \"min\": 373,\n        \"max\": 7982,\n        \"num_unique_values\": 5,\n        \"samples\": [\n          373\n        ],\n        \"semantic_type\": \"\",\n        \"description\": \"\"\n      }\n    }\n  ]\n}"
            }
          },
          "metadata": {},
          "execution_count": 50
        }
      ]
    },
    {
      "cell_type": "code",
      "source": [
        "week11().dtypes"
      ],
      "metadata": {
        "id": "y80UBJ46LD91",
        "outputId": "1f9e012a-4989-416f-df19-d7873580120f",
        "colab": {
          "base_uri": "https://localhost:8080/",
          "height": 272
        }
      },
      "execution_count": 51,
      "outputs": [
        {
          "output_type": "execute_result",
          "data": {
            "text/plain": [
              "CODE                 object\n",
              "SHORT DESCRIPTION    object\n",
              "LONG DESCRIPTION     object\n",
              "NF EXCL              object\n",
              "CODE TYPE            object\n",
              "CODE NUM              int64\n",
              "dtype: object"
            ],
            "text/html": [
              "<div>\n",
              "<style scoped>\n",
              "    .dataframe tbody tr th:only-of-type {\n",
              "        vertical-align: middle;\n",
              "    }\n",
              "\n",
              "    .dataframe tbody tr th {\n",
              "        vertical-align: top;\n",
              "    }\n",
              "\n",
              "    .dataframe thead th {\n",
              "        text-align: right;\n",
              "    }\n",
              "</style>\n",
              "<table border=\"1\" class=\"dataframe\">\n",
              "  <thead>\n",
              "    <tr style=\"text-align: right;\">\n",
              "      <th></th>\n",
              "      <th>0</th>\n",
              "    </tr>\n",
              "  </thead>\n",
              "  <tbody>\n",
              "    <tr>\n",
              "      <th>CODE</th>\n",
              "      <td>object</td>\n",
              "    </tr>\n",
              "    <tr>\n",
              "      <th>SHORT DESCRIPTION</th>\n",
              "      <td>object</td>\n",
              "    </tr>\n",
              "    <tr>\n",
              "      <th>LONG DESCRIPTION</th>\n",
              "      <td>object</td>\n",
              "    </tr>\n",
              "    <tr>\n",
              "      <th>NF EXCL</th>\n",
              "      <td>object</td>\n",
              "    </tr>\n",
              "    <tr>\n",
              "      <th>CODE TYPE</th>\n",
              "      <td>object</td>\n",
              "    </tr>\n",
              "    <tr>\n",
              "      <th>CODE NUM</th>\n",
              "      <td>int64</td>\n",
              "    </tr>\n",
              "  </tbody>\n",
              "</table>\n",
              "</div><br><label><b>dtype:</b> object</label>"
            ]
          },
          "metadata": {},
          "execution_count": 51
        }
      ]
    },
    {
      "cell_type": "markdown",
      "source": [
        "CODE NUM is given as a **INT** so it is a numeric."
      ],
      "metadata": {
        "id": "hAQL85SgPKWt"
      }
    },
    {
      "cell_type": "code",
      "source": [
        "week11().shape"
      ],
      "metadata": {
        "id": "dSYckSRiLqU2",
        "outputId": "3dafe2c5-49be-4351-cdda-dbe09f3f6c28",
        "colab": {
          "base_uri": "https://localhost:8080/"
        }
      },
      "execution_count": 52,
      "outputs": [
        {
          "output_type": "execute_result",
          "data": {
            "text/plain": [
              "(1098, 6)"
            ]
          },
          "metadata": {},
          "execution_count": 52
        }
      ]
    },
    {
      "cell_type": "markdown",
      "metadata": {
        "id": "zL3dRdBSrOEt"
      },
      "source": [
        "---\n",
        "\n",
        "## You can run your doctests this way"
      ]
    },
    {
      "cell_type": "code",
      "execution_count": 53,
      "metadata": {
        "id": "iQghluCmrOEu",
        "outputId": "9220199a-b961-4c4f-e0d2-b920c5784bfa",
        "colab": {
          "base_uri": "https://localhost:8080/"
        }
      },
      "outputs": [
        {
          "output_type": "stream",
          "name": "stdout",
          "text": [
            "Finding tests in NoName\n",
            "Trying:\n",
            "    week11().shape\n",
            "Expecting:\n",
            "    (1098, 6)\n",
            "ok\n"
          ]
        }
      ],
      "source": [
        "from doctest import run_docstring_examples\n",
        "run_docstring_examples(week11, globs=globals(), verbose=True)"
      ]
    },
    {
      "cell_type": "markdown",
      "metadata": {
        "id": "-Ja9R7ndrOEu"
      },
      "source": [
        "---\n",
        "\n",
        "## Use this code to check your output!\n",
        "\n",
        "If you get something other than `\"You did it!!\"` then you still have work to do on your solution.\n",
        "\n",
        "The feedback provided should give you some hints as to what you haven't done correctly in filtering and organizing the data.\n",
        "\n",
        "You can run this as many times as you want.  I'm not recording who is trying what and if you're getting the right answers or not."
      ]
    },
    {
      "cell_type": "code",
      "execution_count": 54,
      "metadata": {
        "id": "cANIMXzjrOEv",
        "outputId": "f276c5f5-fd2e-4e4a-8d3e-f4f718a1bb0e",
        "colab": {
          "base_uri": "https://localhost:8080/"
        }
      },
      "outputs": [
        {
          "output_type": "stream",
          "name": "stdout",
          "text": [
            "200\n",
            "\"You did it!!\"\n"
          ]
        }
      ],
      "source": [
        "import requests\n",
        "\n",
        "r = requests.post('https://rln3ys6dciybh6cydvapszesna0oxcyn.lambda-url.us-east-1.on.aws/',\n",
        "                  headers={\"content-type\": \"application/json\"},\n",
        "                  data=week11().to_json(orient='records'))\n",
        "\n",
        "print(r.status_code)\n",
        "print(r.text)"
      ]
    }
  ],
  "metadata": {
    "kernelspec": {
      "display_name": ".venv",
      "language": "python",
      "name": "python3"
    },
    "language_info": {
      "codemirror_mode": {
        "name": "ipython",
        "version": 3
      },
      "file_extension": ".py",
      "mimetype": "text/x-python",
      "name": "python",
      "nbconvert_exporter": "python",
      "pygments_lexer": "ipython3",
      "version": "3.9.16"
    },
    "colab": {
      "provenance": []
    }
  },
  "nbformat": 4,
  "nbformat_minor": 0
}